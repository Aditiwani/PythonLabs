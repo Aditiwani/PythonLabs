{
 "cells": [
  {
   "cell_type": "markdown",
   "metadata": {},
   "source": [
    "Q.1) Read values for P, T, and R and calculate Simple Interest.\n"
   ]
  },
  {
   "cell_type": "code",
   "execution_count": 5,
   "metadata": {},
   "outputs": [
    {
     "name": "stdout",
     "output_type": "stream",
     "text": [
      "simple intrest is : 600.0\n"
     ]
    }
   ],
   "source": [
    "def simpleintrest(P,T,R): #define a function\n",
    "    i = (P*R*T)/100  # formula for simple intrest\n",
    "    print(\"simple intrest is :\", i)\n",
    "#taking inputs\n",
    "P = float(input(\"Enter the principle amount\")) \n",
    "T = float(input(\"Enter time in years\"))\n",
    "R = float(input(\"Enter the rate of intrest\"))\n",
    "simpleintrest(P,T,R) #to call out the function\n"
   ]
  },
  {
   "cell_type": "markdown",
   "metadata": {},
   "source": [
    "Q.2) Read input length in cm, convert it into meters, km and miles, and print them."
   ]
  },
  {
   "cell_type": "code",
   "execution_count": 6,
   "metadata": {},
   "outputs": [
    {
     "name": "stdout",
     "output_type": "stream",
     "text": [
      "the length in meters is :  0.12\n",
      "the length in kilometers is :  0.00012\n",
      "the length in miles is :  7.456472839797681e-05\n"
     ]
    }
   ],
   "source": [
    "#define seperate functions for all conversions\n",
    "def cm_to_m(cm):\n",
    "    return cm / 100\n",
    "def cm_to_km(cm):\n",
    "    return cm / 100000\n",
    "def cm_to_miles(cm):\n",
    "    return cm / 160934\n",
    "length = int(input(\"Enter the length in centimeters\")) # take the input\n",
    "print(\"the length in meters is : \", cm_to_m(length))\n",
    "print(\"the length in kilometers is : \", cm_to_km(length))\n",
    "print(\"the length in miles is : \", cm_to_miles(length))"
   ]
  },
  {
   "cell_type": "markdown",
   "metadata": {},
   "source": [
    "Q.3) Read two numbers and find which is closest to zero."
   ]
  },
  {
   "cell_type": "code",
   "execution_count": 8,
   "metadata": {},
   "outputs": [
    {
     "data": {
      "text/plain": [
       "4"
      ]
     },
     "execution_count": 8,
     "metadata": {},
     "output_type": "execute_result"
    }
   ],
   "source": [
    "#define a function\n",
    "def closest_zero(a,b):\n",
    "    if abs(a) > abs(b): # condition for a number tp be close to zero\n",
    "        return b \n",
    "    else:\n",
    "        return a \n",
    "#take inputs\n",
    "a = int(input(\"Enter the first no.\"))\n",
    "b = int(input(\"Enter the second no.\"))\n",
    "closest_zero(a,b) #call out the function "
   ]
  },
  {
   "cell_type": "markdown",
   "metadata": {},
   "source": [
    "Q.4)Read two numbers and print all the numbers between them. After that, print all the multiples of 5 between those numbers."
   ]
  },
  {
   "cell_type": "code",
   "execution_count": 9,
   "metadata": {},
   "outputs": [
    {
     "name": "stdout",
     "output_type": "stream",
     "text": [
      "7\n",
      "8\n",
      "9\n",
      "10\n",
      "11\n",
      "12\n",
      "13\n",
      "14\n",
      "15\n",
      "multiples of 5 between x and y are:\n",
      "10\n",
      "15\n"
     ]
    }
   ],
   "source": [
    "#define a function \n",
    "def number():\n",
    "    #take inputs\n",
    "    x = int(input(\"Enter the first number\"))\n",
    "    y = int(input(\"Enter the second number\"))\n",
    "    for i in range(x,y+1): # range defined\n",
    "        print(i)\n",
    "    print(\"multiples of 5 between x and y are:\")\n",
    "    for j in range (x , y+1): \n",
    "        if j % 5 == 0: #condition for being a multiple of 5 \n",
    "            print(j)\n",
    "number() # call out the function \n"
   ]
  },
  {
   "cell_type": "markdown",
   "metadata": {},
   "source": [
    "Q.5) Program to find the sum of the first N numbers (where N is a user input)"
   ]
  },
  {
   "cell_type": "code",
   "execution_count": 10,
   "metadata": {},
   "outputs": [
    {
     "name": "stdout",
     "output_type": "stream",
     "text": [
      "the sum is 55.0\n"
     ]
    }
   ],
   "source": [
    "#define a function \n",
    "def sum():\n",
    "    n = int(input(\"Enter the number\")) #take input \n",
    "    if n < 0:\n",
    "        print(\"Enter a positive number\") # only natural number required \n",
    "    else:\n",
    "        sum = (n * (n+1))/2 # formula for dum of n natural numbers \n",
    "        print(\"the sum is\", sum)\n",
    "sum() # call out the function "
   ]
  }
 ],
 "metadata": {
  "kernelspec": {
   "display_name": "Python 3.10.6 64-bit",
   "language": "python",
   "name": "python3"
  },
  "language_info": {
   "codemirror_mode": {
    "name": "ipython",
    "version": 3
   },
   "file_extension": ".py",
   "mimetype": "text/x-python",
   "name": "python",
   "nbconvert_exporter": "python",
   "pygments_lexer": "ipython3",
   "version": "3.10.6"
  },
  "orig_nbformat": 4,
  "vscode": {
   "interpreter": {
    "hash": "916dbcbb3f70747c44a77c7bcd40155683ae19c65e1c03b4aa3499c5328201f1"
   }
  }
 },
 "nbformat": 4,
 "nbformat_minor": 2
}
